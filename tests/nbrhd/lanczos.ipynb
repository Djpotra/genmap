{
 "cells": [
  {
   "cell_type": "code",
   "execution_count": 8,
   "metadata": {
    "collapsed": true
   },
   "outputs": [],
   "source": [
    "import numpy as  np"
   ]
  },
  {
   "cell_type": "code",
   "execution_count": 17,
   "metadata": {},
   "outputs": [
    {
     "name": "stdout",
     "output_type": "stream",
     "text": [
      "[  4.11346202e-07   1.75735884e+00   6.58578677e+00   9.41421320e+00\n",
      "   1.02426408e+01]\n"
     ]
    }
   ],
   "source": [
    "## nbrhd with 1-vector component\n",
    "# beta = np.array([1.168550, 3.467932, 2.216024, 0.670604, 0.000000, 1.869903, 4.219851])\n",
    "# alpha= np.array([0.614286, 4.690452, 5.530113, 7.530452, 9.634697, 1.362608, 7.927308, 4.205681])\n",
    "beta = np.array([1.168550, 3.467932, 2.216024, 0.670604])\n",
    "alpha= np.array([0.614286, 4.690452, 5.530113, 7.530452, 9.634697])\n",
    "A = np.diag(alpha, 0) + np.diag(beta, -1) + np.diag(beta, 1)\n",
    "eVal, eVec = np.linalg.eig(A)\n",
    "idx = eVal.argsort()\n",
    "eVal = eVal[idx]\n",
    "eVec = eVec[:,idx]\n",
    "print(eVal)"
   ]
  },
  {
   "cell_type": "code",
   "execution_count": 16,
   "metadata": {},
   "outputs": [
    {
     "name": "stdout",
     "output_type": "stream",
     "text": [
      "[  1.75735911   6.58578662   9.41421353  10.24264074]\n"
     ]
    }
   ],
   "source": [
    "## nbrhd without 1-vector component\n",
    "beta = np.array([1.271527, 1.655768, 0.540736, 0.000000, 1.191042, 2.383590, 3.126607])\n",
    "alpha= np.array([2.047619, 7.736392, 8.498535, 9.717454, 0.277509, 6.776077, 5.063325, 6.003597])\n",
    "beta = np.array([1.271527, 1.655768, 0.540736])\n",
    "alpha= np.array([2.047619, 7.736392, 8.498535, 9.717454])\n",
    "A = np.diag(alpha, 0) + np.diag(beta, -1) + np.diag(beta, 1)\n",
    "eVal, eVec = np.linalg.eig(A)\n",
    "idx = eVal.argsort()\n",
    "eVal = eVal[idx]\n",
    "eVec = eVec[:,idx]\n",
    "print(eVal)"
   ]
  },
  {
   "cell_type": "code",
   "execution_count": 18,
   "metadata": {},
   "outputs": [
    {
     "name": "stdout",
     "output_type": "stream",
     "text": [
      "[  1.06763828e-04   1.75735931e+00   1.76297829e+00   6.46097429e+00\n",
      "   6.58578644e+00   9.41421356e+00   1.02426407e+01   1.11671067e+01]\n"
     ]
    }
   ],
   "source": [
    "## nbrhd without 1-vector component, full precision\n",
    "beta = np.array([1.2715266593160659, 1.6557679912438898, 0.54073602387500952, 1.2287782975292755e-13, 0.54940515265811951, 3.790830649347753, 2.334712066380646])\n",
    "alpha= np.array([2.0476190476190474, 7.7363921725773039, 8.4985345850109795, 9.7174541947926691, 0.12367372103839805, 4.5285533106762745, 7.660205286252924, 7.078733738923777])\n",
    "A = np.diag(alpha, 0) + np.diag(beta, -1) + np.diag(beta, 1)\n",
    "eVal, eVec = np.linalg.eig(A)\n",
    "idx = eVal.argsort()\n",
    "eVal = eVal[idx]\n",
    "eVec = eVec[:,idx]\n",
    "print(eVal)"
   ]
  },
  {
   "cell_type": "code",
   "execution_count": 11,
   "metadata": {},
   "outputs": [],
   "source": [
    "## eddy_uv\n",
    "beta = np.array([4.174768, 9.010341, 5.856417, 6.256188, 6.839009, 5.828392, 6.867729, 6.009207, 6.586729, 6.909909, 7.263033, 4.754881, 1.021064, 7.418104, 9.637234, 3.013607, 4.399381, 8.272002, 7.154688, 5.240180, 4.842521, 8.492686, 4.625103, 3.583443, 11.048931, 3.496901, 4.317241, 6.703846, 4.146098, 8.231529, 8.033543, 2.596679, 6.203460, 8.299340, 7.410388, 3.787120, 4.322160, 8.884226, 2.915390, 6.870189, 8.177615, 6.012421, 7.725407, 3.731995, 3.265758, 10.267466, 5.101809, 3.905163, 5.525104])\n",
    "alpha= np.array([1.680336, 3.521474, 3.595368, 3.004001, 3.405356, 3.120827, 3.329102, 3.259543, 3.234055, 3.378020, 3.393117, 3.320728, 2.242830, 2.682706, 3.935411, 3.333611, 2.416412, 3.398263, 3.618611, 3.277729, 2.885358, 3.452473, 3.514558, 2.357768, 3.864992, 3.852026, 2.413325, 3.253489, 3.110415, 3.194065, 3.816206, 3.065387, 2.843710, 3.560136, 3.639286, 3.211823, 2.472614, 3.601564, 3.448663, 2.790546, 3.665692, 3.335950, 3.442643, 3.284085, 2.095831, 3.667111, 3.816306, 2.600256, 2.986461, 3.343342])\n",
    "A = np.diag(alpha, 0) + np.diag(beta, -1) + np.diag(beta, 1)\n",
    "eVal, eVec = np.linalg.eig(A)\n",
    "idx = eVal.argsort()\n",
    "eVal = eVal[idx]\n",
    "eVec = eVec[:,idx]"
   ]
  },
  {
   "cell_type": "code",
   "execution_count": null,
   "metadata": {
    "collapsed": true
   },
   "outputs": [],
   "source": []
  }
 ],
 "metadata": {
  "kernelspec": {
   "display_name": "Python 3",
   "language": "python",
   "name": "python3"
  },
  "language_info": {
   "codemirror_mode": {
    "name": "ipython",
    "version": 3
   },
   "file_extension": ".py",
   "mimetype": "text/x-python",
   "name": "python",
   "nbconvert_exporter": "python",
   "pygments_lexer": "ipython3",
   "version": "3.6.1"
  }
 },
 "nbformat": 4,
 "nbformat_minor": 2
}
