{
 "cells": [
  {
   "cell_type": "code",
   "execution_count": 1,
   "metadata": {},
   "outputs": [],
   "source": [
    "import numpy as  np"
   ]
  },
  {
   "cell_type": "code",
   "execution_count": 2,
   "metadata": {},
   "outputs": [
    {
     "name": "stdout",
     "output_type": "stream",
     "text": [
      "[  4.11346202e-07   1.75735884e+00   6.58578677e+00   9.41421320e+00\n",
      "   1.02426408e+01]\n"
     ]
    }
   ],
   "source": [
    "## nbrhd with 1-vector component\n",
    "# beta = np.array([1.168550, 3.467932, 2.216024, 0.670604, 0.000000, 1.869903, 4.219851])\n",
    "# alpha= np.array([0.614286, 4.690452, 5.530113, 7.530452, 9.634697, 1.362608, 7.927308, 4.205681])\n",
    "beta = np.array([1.168550, 3.467932, 2.216024, 0.670604])\n",
    "alpha= np.array([0.614286, 4.690452, 5.530113, 7.530452, 9.634697])\n",
    "A = np.diag(alpha, 0) + np.diag(beta, -1) + np.diag(beta, 1)\n",
    "eVal, eVec = np.linalg.eig(A)\n",
    "idx = eVal.argsort()\n",
    "eVal = eVal[idx]\n",
    "eVec = eVec[:,idx]\n",
    "print(eVal)"
   ]
  },
  {
   "cell_type": "code",
   "execution_count": 3,
   "metadata": {},
   "outputs": [
    {
     "name": "stdout",
     "output_type": "stream",
     "text": [
      "[  1.75735911   6.58578662   9.41421353  10.24264074]\n"
     ]
    }
   ],
   "source": [
    "## nbrhd without 1-vector component\n",
    "beta = np.array([1.271527, 1.655768, 0.540736, 0.000000, 1.191042, 2.383590, 3.126607])\n",
    "alpha= np.array([2.047619, 7.736392, 8.498535, 9.717454, 0.277509, 6.776077, 5.063325, 6.003597])\n",
    "beta = np.array([1.271527, 1.655768, 0.540736])\n",
    "alpha= np.array([2.047619, 7.736392, 8.498535, 9.717454])\n",
    "A = np.diag(alpha, 0) + np.diag(beta, -1) + np.diag(beta, 1)\n",
    "eVal, eVec = np.linalg.eig(A)\n",
    "idx = eVal.argsort()\n",
    "eVal = eVal[idx]\n",
    "eVec = eVec[:,idx]\n",
    "print(eVal)"
   ]
  },
  {
   "cell_type": "code",
   "execution_count": 4,
   "metadata": {},
   "outputs": [
    {
     "name": "stdout",
     "output_type": "stream",
     "text": [
      "[  1.06763828e-04   1.75735931e+00   1.76297829e+00   6.46097429e+00\n",
      "   6.58578644e+00   9.41421356e+00   1.02426407e+01   1.11671067e+01]\n"
     ]
    }
   ],
   "source": [
    "## nbrhd without 1-vector component, full precision\n",
    "beta = np.array([1.2715266593160659, 1.6557679912438898, 0.54073602387500952, 1.2287782975292755e-13, 0.54940515265811951, 3.790830649347753, 2.334712066380646])\n",
    "alpha= np.array([2.0476190476190474, 7.7363921725773039, 8.4985345850109795, 9.7174541947926691, 0.12367372103839805, 4.5285533106762745, 7.660205286252924, 7.078733738923777])\n",
    "A = np.diag(alpha, 0) + np.diag(beta, -1) + np.diag(beta, 1)\n",
    "eVal, eVec = np.linalg.eig(A)\n",
    "idx = eVal.argsort()\n",
    "eVal = eVal[idx]\n",
    "eVec = eVec[:,idx]\n",
    "print(eVal)"
   ]
  },
  {
   "cell_type": "code",
   "execution_count": 5,
   "metadata": {},
   "outputs": [
    {
     "name": "stdout",
     "output_type": "stream",
     "text": [
      "[ -9.42332836  -9.39035078  -9.26845236  -9.2376048   -8.89354839\n",
      "  -8.73773215  -8.60732783  -8.47239218  -8.40026962  -7.06193409\n",
      "  -6.83931284  -6.80778067  -4.76009564  -4.61938908  -4.59743031\n",
      "  -3.35804059  -1.94181662  -1.76765153  -1.7199849    0.61991169\n",
      "   0.75532445   0.92573097   1.4444204    2.37613074   2.58126913\n",
      "   3.02548509   3.32193419   4.32824574   4.58304351   4.78900639\n",
      "   4.92440957   7.88742032   7.94949474   7.99465999   9.61015007\n",
      "  11.06202942  11.06907282  11.12796336  13.64031886  13.65509028\n",
      "  13.66660456  15.39473899  15.42002676  15.47053028  15.56380294\n",
      "  16.00596498  16.03161441  16.08073977  16.1453042   16.18758515]\n"
     ]
    }
   ],
   "source": [
    "## eddy_uv\n",
    "beta = np.array([4.174768, 9.010341, 5.856417, 6.256188, 6.839009, 5.828392, 6.867729, 6.009207, 6.586729, 6.909909, 7.263033, 4.754881, 1.021064, 7.418104, 9.637234, 3.013607, 4.399381, 8.272002, 7.154688, 5.240180, 4.842521, 8.492686, 4.625103, 3.583443, 11.048931, 3.496901, 4.317241, 6.703846, 4.146098, 8.231529, 8.033543, 2.596679, 6.203460, 8.299340, 7.410388, 3.787120, 4.322160, 8.884226, 2.915390, 6.870189, 8.177615, 6.012421, 7.725407, 3.731995, 3.265758, 10.267466, 5.101809, 3.905163, 5.525104])\n",
    "alpha= np.array([1.680336, 3.521474, 3.595368, 3.004001, 3.405356, 3.120827, 3.329102, 3.259543, 3.234055, 3.378020, 3.393117, 3.320728, 2.242830, 2.682706, 3.935411, 3.333611, 2.416412, 3.398263, 3.618611, 3.277729, 2.885358, 3.452473, 3.514558, 2.357768, 3.864992, 3.852026, 2.413325, 3.253489, 3.110415, 3.194065, 3.816206, 3.065387, 2.843710, 3.560136, 3.639286, 3.211823, 2.472614, 3.601564, 3.448663, 2.790546, 3.665692, 3.335950, 3.442643, 3.284085, 2.095831, 3.667111, 3.816306, 2.600256, 2.986461, 3.343342])\n",
    "A = np.diag(alpha, 0) + np.diag(beta, -1) + np.diag(beta, 1)\n",
    "eVal, eVec = np.linalg.eig(A)\n",
    "idx = eVal.argsort()\n",
    "eVal = eVal[idx]\n",
    "eVec = eVec[:,idx]\n",
    "print(eVal)"
   ]
  },
  {
   "cell_type": "code",
   "execution_count": 6,
   "metadata": {},
   "outputs": [
    {
     "name": "stdout",
     "output_type": "stream",
     "text": [
      "[ -1.53910363e+01  -1.36568542e+01  -1.10614675e+01  -8.00000000e+00\n",
      "  -4.93853254e+00  -2.34314575e+00  -6.08963740e-01  -8.32408382e-16]\n"
     ]
    }
   ],
   "source": [
    "alpha = np.array([-4.0, -8.0, -8.0, -8.0, -8.0, -8.0, -8.0, -4.0])\n",
    "beta = np.array([4.0, 4.0, 4.0, 4.0, 4.0, 4.0, 4.0])\n",
    "A = np.diag(alpha, 0) + np.diag(beta, -1) + np.diag(beta, 1)\n",
    "eVal, eVec = np.linalg.eig(A)\n",
    "idx = eVal.argsort()\n",
    "eVal = eVal[idx]\n",
    "eVec = eVec[:, idx]\n",
    "print(eVal)"
   ]
  },
  {
   "cell_type": "code",
   "execution_count": 7,
   "metadata": {},
   "outputs": [
    {
     "data": {
      "text/plain": [
       "array([ 0.49039264,  0.41573481,  0.27778512,  0.09754516, -0.09754516,\n",
       "       -0.27778512, -0.41573481, -0.49039264])"
      ]
     },
     "execution_count": 7,
     "metadata": {},
     "output_type": "execute_result"
    }
   ],
   "source": [
    "eVec[:, 6]"
   ]
  },
  {
   "cell_type": "code",
   "execution_count": 25,
   "metadata": {},
   "outputs": [
    {
     "name": "stdout",
     "output_type": "stream",
     "text": [
      "[-7.39103626 -3.06146745  3.06146748  7.3910359 ]\n"
     ]
    },
    {
     "data": {
      "text/plain": [
       "array([ 0.03099998, -0.57191701,  0.6384408 ,  0.51414325])"
      ]
     },
     "execution_count": 25,
     "metadata": {},
     "output_type": "execute_result"
    }
   ],
   "source": [
    "alpha = np.array([7.333333, 0.6666666667, -2.0000000000, -6.0000000000])\n",
    "beta = np.array([0.563436, 3.3123146848, 2.3664319132])\n",
    "A = np.diag(alpha, 0) + np.diag(beta, -1) + np.diag(beta, 1)\n",
    "eVal, eVec = np.linalg.eig(A)\n",
    "idx = eVal.argsort()\n",
    "eVal = eVal[idx]\n",
    "eVec = eVec[:, idx]\n",
    "print(eVal)\n",
    "eVec[:,1]\n",
    "#0.027479, -0.3329430549, 0.1456322389, 0.1665277777, -0.0000000000"
   ]
  },
  {
   "cell_type": "code",
   "execution_count": 10,
   "metadata": {},
   "outputs": [
    {
     "name": "stdout",
     "output_type": "stream",
     "text": [
      "[ -7.39103645e+00  -7.39103638e+00  -7.39103638e+00  -5.65685461e+00\n",
      "  -5.65685438e+00  -3.06146769e+00  -3.06146752e+00  -3.06146735e+00\n",
      "   2.10257710e-07   3.71352293e-07   3.06146694e+00   3.06146733e+00\n",
      "   3.06146800e+00   5.65685446e+00   5.65685467e+00   7.39103590e+00\n",
      "   7.39103597e+00   7.39103651e+00   7.99999998e+00   8.00000042e+00]\n"
     ]
    }
   ],
   "source": [
    "alpha = np.array([7.333333, 0.666667, -2.000000, -6.000000, 7.416373, 2.175823, -1.065125, -0.040115, 2.977970, -3.134289, 2.287082, -2.617719, 7.583808, -0.090919, 1.771588, -0.197738, -1.842145, -0.667199, -2.105274, 3.547879])\n",
    "beta = np.array([0.563436, 3.312315, 2.366432, 0.000000, 0.567729, 4.997815, 4.394100, 3.344723, 4.447098, 1.953700, 1.669295, 0.000000, 0.830430, 3.979914, 5.217312, 2.769361, 3.787273, 3.085050, 3.455552])\n",
    "A = np.diag(alpha, 0) + np.diag(beta, -1) + np.diag(beta, 1)\n",
    "eVal, eVec = np.linalg.eig(A)\n",
    "idx = eVal.argsort()\n",
    "eVal = eVal[idx]\n",
    "eVec = eVec[:, idx]\n",
    "print(eVal)"
   ]
  },
  {
   "cell_type": "code",
   "execution_count": 11,
   "metadata": {},
   "outputs": [
    {
     "data": {
      "text/plain": [
       "array([ 0.        ,  0.        ,  0.        ,  0.        ,  0.04090749,\n",
       "       -0.53438388,  0.22799969,  0.66307093, -0.29157996, -0.30345009,\n",
       "        0.17688709,  0.11279924,  0.        ,  0.        ,  0.        ,\n",
       "        0.        ,  0.        ,  0.        ,  0.        ,  0.        ])"
      ]
     },
     "execution_count": 11,
     "metadata": {},
     "output_type": "execute_result"
    }
   ],
   "source": [
    "eVec[:,8]"
   ]
  },
  {
   "cell_type": "code",
   "execution_count": null,
   "metadata": {},
   "outputs": [],
   "source": []
  }
 ],
 "metadata": {
  "kernelspec": {
   "display_name": "Python 3",
   "language": "python",
   "name": "python3"
  },
  "language_info": {
   "codemirror_mode": {
    "name": "ipython",
    "version": 3
   },
   "file_extension": ".py",
   "mimetype": "text/x-python",
   "name": "python",
   "nbconvert_exporter": "python",
   "pygments_lexer": "ipython3",
   "version": "3.6.1"
  }
 },
 "nbformat": 4,
 "nbformat_minor": 2
}
